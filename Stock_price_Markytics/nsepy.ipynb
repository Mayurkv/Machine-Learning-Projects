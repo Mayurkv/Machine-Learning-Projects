{
 "cells": [
  {
   "cell_type": "code",
   "execution_count": 1,
   "metadata": {},
   "outputs": [],
   "source": [
    "import pandas as pd\n",
    "import pandas_datareader as pdr\n",
    "from nsepy import get_history\n",
    "from datetime import date, timedelta"
   ]
  },
  {
   "cell_type": "code",
   "execution_count": 2,
   "metadata": {},
   "outputs": [],
   "source": [
    "stocks_list=pd.read_excel(r\"D:\\Internshala\\List of Stocks case study (1).xlsx\")"
   ]
  },
  {
   "cell_type": "code",
   "execution_count": 3,
   "metadata": {},
   "outputs": [],
   "source": [
    "symbols=stocks_list.iloc[:,1]\n",
    "\n",
    "# Removing the spaces at the end in the symbols column\n",
    "no_spaces = [i.split()[0] for i in symbols]\n",
    "\n",
    "stocks_list['symbols'] = no_spaces"
   ]
  },
  {
   "cell_type": "code",
   "execution_count": 4,
   "metadata": {
    "scrolled": true
   },
   "outputs": [
    {
     "name": "stdout",
     "output_type": "stream",
     "text": [
      "2021-06-05\n",
      "2021-10-14\n"
     ]
    }
   ],
   "source": [
    "closing_prices = pd.DataFrame()\n",
    "\n",
    "#subtracting 131 days to get 90 trading days\n",
    "start = date.today() - timedelta(days=131)\n",
    "end = date.today()\n",
    "\n",
    "print(start)\n",
    "print(end)"
   ]
  },
  {
   "cell_type": "code",
   "execution_count": 5,
   "metadata": {},
   "outputs": [],
   "source": [
    "for i in stocks_list['symbols'].str.lower():\n",
    "    closing_prices[str(i)] = get_history(symbol = str(i), start = start, end = end)['Close']"
   ]
  },
  {
   "cell_type": "code",
   "execution_count": 10,
   "metadata": {},
   "outputs": [],
   "source": [
    "closing_prices.to_excel(r\"D:\\Internshala\\closing_prices_90_days_stocks.xlsx\")"
   ]
  },
  {
   "cell_type": "code",
   "execution_count": null,
   "metadata": {},
   "outputs": [],
   "source": []
  }
 ],
 "metadata": {
  "kernelspec": {
   "display_name": "Python 3",
   "language": "python",
   "name": "python3"
  },
  "language_info": {
   "codemirror_mode": {
    "name": "ipython",
    "version": 3
   },
   "file_extension": ".py",
   "mimetype": "text/x-python",
   "name": "python",
   "nbconvert_exporter": "python",
   "pygments_lexer": "ipython3",
   "version": "3.7.3"
  }
 },
 "nbformat": 4,
 "nbformat_minor": 2
}
